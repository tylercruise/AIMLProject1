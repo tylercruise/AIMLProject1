{
 "cells": [
  {
   "cell_type": "code",
   "execution_count": 1,
   "id": "1727818d-bed8-4e05-b7ad-4d70e6c9a838",
   "metadata": {
    "tags": []
   },
   "outputs": [
    {
     "name": "stdout",
     "output_type": "stream",
     "text": [
      "Hello Alex!\n"
     ]
    }
   ],
   "source": [
    "print(\"Hello Alex!\")"
   ]
  },
  {
   "cell_type": "code",
   "execution_count": 1,
   "id": "54d6118c-8e89-43fe-8143-2e0dd5cdce0f",
   "metadata": {},
   "outputs": [
    {
     "name": "stdout",
     "output_type": "stream",
     "text": [
      "\n"
     ]
    }
   ],
   "source": [
    "print(\"Hello Tyler!\")"
   ]
  },
  {
   "cell_type": "code",
   "execution_count": null,
   "id": "bbbc69d5",
   "metadata": {},
   "outputs": [],
   "source": []
  }
 ],
 "metadata": {
  "kernelspec": {
   "display_name": "Python 3 (ipykernel)",
   "language": "python",
   "name": "python3"
  },
  "language_info": {
   "codemirror_mode": {
    "name": "ipython",
    "version": 3
   },
   "file_extension": ".py",
   "mimetype": "text/x-python",
   "name": "python",
   "nbconvert_exporter": "python",
   "pygments_lexer": "ipython3",
   "version": "3.11.5"
  }
 },
 "nbformat": 4,
 "nbformat_minor": 5
}
